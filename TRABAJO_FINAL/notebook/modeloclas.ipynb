{
 "cells": [
  {
   "cell_type": "code",
   "execution_count": 3,
   "metadata": {},
   "outputs": [],
   "source": [
    "from sklearn.model_selection import train_test_split"
   ]
  },
  {
   "cell_type": "code",
   "execution_count": 4,
   "metadata": {},
   "outputs": [],
   "source": [
    "import pandas as pd\n",
    "import numpy as np\n"
   ]
  },
  {
   "cell_type": "code",
   "execution_count": 5,
   "metadata": {},
   "outputs": [],
   "source": [
    "music = pd.read_csv(r'C:\\Users\\Jesús\\Desktop\\GitHub\\SPOTIFY\\TRABAJO_FINAL\\data\\music_cleaned.csv', sep= ';')"
   ]
  },
  {
   "cell_type": "code",
   "execution_count": 6,
   "metadata": {},
   "outputs": [
    {
     "data": {
      "text/plain": [
       "Index(['instance_id', 'artist_name', 'track_name', 'popularity',\n",
       "       'acousticness', 'danceability', 'duration_ms', 'energy',\n",
       "       'instrumentalness', 'key', 'liveness', 'loudness', 'mode',\n",
       "       'speechiness', 'tempo', 'valence', 'danceability_category',\n",
       "       'danceability_cod', 'tempo_cod', 'loudness_cat', 'loudness_cod',\n",
       "       'valence_cod', 'speech_cat', 'speech_cod', 'energy_cat', 'energy_cod',\n",
       "       'popularity_cat', 'popularity_cod', 'mode_cod', 'key_cod',\n",
       "       'alternative', 'anime', 'blues', 'classical', 'country', 'electronic',\n",
       "       'hiphop', 'jazz', 'rap', 'rock', 'music_genre', 'music_genre_cod'],\n",
       "      dtype='object')"
      ]
     },
     "execution_count": 6,
     "metadata": {},
     "output_type": "execute_result"
    }
   ],
   "source": [
    "music.columns"
   ]
  },
  {
   "cell_type": "code",
   "execution_count": 7,
   "metadata": {},
   "outputs": [],
   "source": [
    "mus = music[['tempo_cod', 'popularity','acousticness','instrumentalness','valence', 'loudness_cod','speech_cod', 'energy_cod', 'danceability_cod','music_genre_cod']]"
   ]
  },
  {
   "cell_type": "code",
   "execution_count": 8,
   "metadata": {},
   "outputs": [
    {
     "name": "stdout",
     "output_type": "stream",
     "text": [
      "<class 'pandas.core.series.Series'>\n",
      "RangeIndex: 40328 entries, 0 to 40327\n",
      "Series name: speech_cod\n",
      "Non-Null Count  Dtype  \n",
      "--------------  -----  \n",
      "40328 non-null  float64\n",
      "dtypes: float64(1)\n",
      "memory usage: 315.2 KB\n"
     ]
    }
   ],
   "source": [
    "mus['speech_cod'].info()"
   ]
  },
  {
   "cell_type": "code",
   "execution_count": 6,
   "metadata": {},
   "outputs": [
    {
     "data": {
      "text/html": [
       "<style type=\"text/css\">\n",
       "#T_3d7f2_row8_col1 {\n",
       "  background-color: lightgreen;\n",
       "}\n",
       "</style>\n",
       "<table id=\"T_3d7f2\">\n",
       "  <thead>\n",
       "    <tr>\n",
       "      <th class=\"blank level0\" >&nbsp;</th>\n",
       "      <th id=\"T_3d7f2_level0_col0\" class=\"col_heading level0 col0\" >Description</th>\n",
       "      <th id=\"T_3d7f2_level0_col1\" class=\"col_heading level0 col1\" >Value</th>\n",
       "    </tr>\n",
       "  </thead>\n",
       "  <tbody>\n",
       "    <tr>\n",
       "      <th id=\"T_3d7f2_level0_row0\" class=\"row_heading level0 row0\" >0</th>\n",
       "      <td id=\"T_3d7f2_row0_col0\" class=\"data row0 col0\" >Session id</td>\n",
       "      <td id=\"T_3d7f2_row0_col1\" class=\"data row0 col1\" >4811</td>\n",
       "    </tr>\n",
       "    <tr>\n",
       "      <th id=\"T_3d7f2_level0_row1\" class=\"row_heading level0 row1\" >1</th>\n",
       "      <td id=\"T_3d7f2_row1_col0\" class=\"data row1 col0\" >Target</td>\n",
       "      <td id=\"T_3d7f2_row1_col1\" class=\"data row1 col1\" >danceability_cod</td>\n",
       "    </tr>\n",
       "    <tr>\n",
       "      <th id=\"T_3d7f2_level0_row2\" class=\"row_heading level0 row2\" >2</th>\n",
       "      <td id=\"T_3d7f2_row2_col0\" class=\"data row2 col0\" >Target type</td>\n",
       "      <td id=\"T_3d7f2_row2_col1\" class=\"data row2 col1\" >Binary</td>\n",
       "    </tr>\n",
       "    <tr>\n",
       "      <th id=\"T_3d7f2_level0_row3\" class=\"row_heading level0 row3\" >3</th>\n",
       "      <td id=\"T_3d7f2_row3_col0\" class=\"data row3 col0\" >Original data shape</td>\n",
       "      <td id=\"T_3d7f2_row3_col1\" class=\"data row3 col1\" >(40328, 10)</td>\n",
       "    </tr>\n",
       "    <tr>\n",
       "      <th id=\"T_3d7f2_level0_row4\" class=\"row_heading level0 row4\" >4</th>\n",
       "      <td id=\"T_3d7f2_row4_col0\" class=\"data row4 col0\" >Transformed data shape</td>\n",
       "      <td id=\"T_3d7f2_row4_col1\" class=\"data row4 col1\" >(40328, 10)</td>\n",
       "    </tr>\n",
       "    <tr>\n",
       "      <th id=\"T_3d7f2_level0_row5\" class=\"row_heading level0 row5\" >5</th>\n",
       "      <td id=\"T_3d7f2_row5_col0\" class=\"data row5 col0\" >Transformed train set shape</td>\n",
       "      <td id=\"T_3d7f2_row5_col1\" class=\"data row5 col1\" >(28229, 10)</td>\n",
       "    </tr>\n",
       "    <tr>\n",
       "      <th id=\"T_3d7f2_level0_row6\" class=\"row_heading level0 row6\" >6</th>\n",
       "      <td id=\"T_3d7f2_row6_col0\" class=\"data row6 col0\" >Transformed test set shape</td>\n",
       "      <td id=\"T_3d7f2_row6_col1\" class=\"data row6 col1\" >(12099, 10)</td>\n",
       "    </tr>\n",
       "    <tr>\n",
       "      <th id=\"T_3d7f2_level0_row7\" class=\"row_heading level0 row7\" >7</th>\n",
       "      <td id=\"T_3d7f2_row7_col0\" class=\"data row7 col0\" >Numeric features</td>\n",
       "      <td id=\"T_3d7f2_row7_col1\" class=\"data row7 col1\" >9</td>\n",
       "    </tr>\n",
       "    <tr>\n",
       "      <th id=\"T_3d7f2_level0_row8\" class=\"row_heading level0 row8\" >8</th>\n",
       "      <td id=\"T_3d7f2_row8_col0\" class=\"data row8 col0\" >Preprocess</td>\n",
       "      <td id=\"T_3d7f2_row8_col1\" class=\"data row8 col1\" >True</td>\n",
       "    </tr>\n",
       "    <tr>\n",
       "      <th id=\"T_3d7f2_level0_row9\" class=\"row_heading level0 row9\" >9</th>\n",
       "      <td id=\"T_3d7f2_row9_col0\" class=\"data row9 col0\" >Imputation type</td>\n",
       "      <td id=\"T_3d7f2_row9_col1\" class=\"data row9 col1\" >simple</td>\n",
       "    </tr>\n",
       "    <tr>\n",
       "      <th id=\"T_3d7f2_level0_row10\" class=\"row_heading level0 row10\" >10</th>\n",
       "      <td id=\"T_3d7f2_row10_col0\" class=\"data row10 col0\" >Numeric imputation</td>\n",
       "      <td id=\"T_3d7f2_row10_col1\" class=\"data row10 col1\" >mean</td>\n",
       "    </tr>\n",
       "    <tr>\n",
       "      <th id=\"T_3d7f2_level0_row11\" class=\"row_heading level0 row11\" >11</th>\n",
       "      <td id=\"T_3d7f2_row11_col0\" class=\"data row11 col0\" >Categorical imputation</td>\n",
       "      <td id=\"T_3d7f2_row11_col1\" class=\"data row11 col1\" >mode</td>\n",
       "    </tr>\n",
       "    <tr>\n",
       "      <th id=\"T_3d7f2_level0_row12\" class=\"row_heading level0 row12\" >12</th>\n",
       "      <td id=\"T_3d7f2_row12_col0\" class=\"data row12 col0\" >Fold Generator</td>\n",
       "      <td id=\"T_3d7f2_row12_col1\" class=\"data row12 col1\" >StratifiedKFold</td>\n",
       "    </tr>\n",
       "    <tr>\n",
       "      <th id=\"T_3d7f2_level0_row13\" class=\"row_heading level0 row13\" >13</th>\n",
       "      <td id=\"T_3d7f2_row13_col0\" class=\"data row13 col0\" >Fold Number</td>\n",
       "      <td id=\"T_3d7f2_row13_col1\" class=\"data row13 col1\" >10</td>\n",
       "    </tr>\n",
       "    <tr>\n",
       "      <th id=\"T_3d7f2_level0_row14\" class=\"row_heading level0 row14\" >14</th>\n",
       "      <td id=\"T_3d7f2_row14_col0\" class=\"data row14 col0\" >CPU Jobs</td>\n",
       "      <td id=\"T_3d7f2_row14_col1\" class=\"data row14 col1\" >-1</td>\n",
       "    </tr>\n",
       "    <tr>\n",
       "      <th id=\"T_3d7f2_level0_row15\" class=\"row_heading level0 row15\" >15</th>\n",
       "      <td id=\"T_3d7f2_row15_col0\" class=\"data row15 col0\" >Use GPU</td>\n",
       "      <td id=\"T_3d7f2_row15_col1\" class=\"data row15 col1\" >False</td>\n",
       "    </tr>\n",
       "    <tr>\n",
       "      <th id=\"T_3d7f2_level0_row16\" class=\"row_heading level0 row16\" >16</th>\n",
       "      <td id=\"T_3d7f2_row16_col0\" class=\"data row16 col0\" >Log Experiment</td>\n",
       "      <td id=\"T_3d7f2_row16_col1\" class=\"data row16 col1\" >False</td>\n",
       "    </tr>\n",
       "    <tr>\n",
       "      <th id=\"T_3d7f2_level0_row17\" class=\"row_heading level0 row17\" >17</th>\n",
       "      <td id=\"T_3d7f2_row17_col0\" class=\"data row17 col0\" >Experiment Name</td>\n",
       "      <td id=\"T_3d7f2_row17_col1\" class=\"data row17 col1\" >clf-default-name</td>\n",
       "    </tr>\n",
       "    <tr>\n",
       "      <th id=\"T_3d7f2_level0_row18\" class=\"row_heading level0 row18\" >18</th>\n",
       "      <td id=\"T_3d7f2_row18_col0\" class=\"data row18 col0\" >USI</td>\n",
       "      <td id=\"T_3d7f2_row18_col1\" class=\"data row18 col1\" >2148</td>\n",
       "    </tr>\n",
       "  </tbody>\n",
       "</table>\n"
      ],
      "text/plain": [
       "<pandas.io.formats.style.Styler at 0x148a2ddc790>"
      ]
     },
     "metadata": {},
     "output_type": "display_data"
    },
    {
     "data": {
      "text/html": [],
      "text/plain": [
       "<IPython.core.display.HTML object>"
      ]
     },
     "metadata": {},
     "output_type": "display_data"
    },
    {
     "data": {
      "text/html": [
       "<style type=\"text/css\">\n",
       "#T_bf141 th {\n",
       "  text-align: left;\n",
       "}\n",
       "#T_bf141_row0_col0, #T_bf141_row0_col3, #T_bf141_row0_col4, #T_bf141_row1_col0, #T_bf141_row1_col1, #T_bf141_row1_col2, #T_bf141_row1_col3, #T_bf141_row1_col4, #T_bf141_row1_col5, #T_bf141_row1_col6, #T_bf141_row1_col7, #T_bf141_row2_col0, #T_bf141_row2_col1, #T_bf141_row2_col2, #T_bf141_row2_col3, #T_bf141_row2_col5, #T_bf141_row2_col6, #T_bf141_row2_col7, #T_bf141_row3_col0, #T_bf141_row3_col1, #T_bf141_row3_col2, #T_bf141_row3_col3, #T_bf141_row3_col4, #T_bf141_row3_col5, #T_bf141_row3_col6, #T_bf141_row3_col7, #T_bf141_row4_col0, #T_bf141_row4_col1, #T_bf141_row4_col2, #T_bf141_row4_col3, #T_bf141_row4_col4, #T_bf141_row4_col5, #T_bf141_row4_col6, #T_bf141_row4_col7, #T_bf141_row5_col0, #T_bf141_row5_col1, #T_bf141_row5_col2, #T_bf141_row5_col3, #T_bf141_row5_col4, #T_bf141_row5_col5, #T_bf141_row5_col6, #T_bf141_row5_col7, #T_bf141_row6_col0, #T_bf141_row6_col1, #T_bf141_row6_col2, #T_bf141_row6_col3, #T_bf141_row6_col4, #T_bf141_row6_col5, #T_bf141_row6_col6, #T_bf141_row6_col7, #T_bf141_row7_col0, #T_bf141_row7_col1, #T_bf141_row7_col2, #T_bf141_row7_col3, #T_bf141_row7_col4, #T_bf141_row7_col5, #T_bf141_row7_col6, #T_bf141_row7_col7, #T_bf141_row8_col0, #T_bf141_row8_col1, #T_bf141_row8_col2, #T_bf141_row8_col3, #T_bf141_row8_col4, #T_bf141_row8_col5, #T_bf141_row8_col6, #T_bf141_row8_col7, #T_bf141_row9_col0, #T_bf141_row9_col1, #T_bf141_row9_col2, #T_bf141_row9_col3, #T_bf141_row9_col4, #T_bf141_row9_col5, #T_bf141_row9_col6, #T_bf141_row9_col7, #T_bf141_row10_col0, #T_bf141_row10_col1, #T_bf141_row10_col2, #T_bf141_row10_col3, #T_bf141_row10_col4, #T_bf141_row10_col5, #T_bf141_row10_col6, #T_bf141_row10_col7, #T_bf141_row11_col0, #T_bf141_row11_col1, #T_bf141_row11_col2, #T_bf141_row11_col3, #T_bf141_row11_col4, #T_bf141_row11_col5, #T_bf141_row11_col6, #T_bf141_row11_col7, #T_bf141_row12_col0, #T_bf141_row12_col1, #T_bf141_row12_col2, #T_bf141_row12_col3, #T_bf141_row12_col4, #T_bf141_row12_col5, #T_bf141_row12_col6, #T_bf141_row12_col7, #T_bf141_row13_col0, #T_bf141_row13_col1, #T_bf141_row13_col2, #T_bf141_row13_col3, #T_bf141_row13_col4, #T_bf141_row13_col5, #T_bf141_row13_col6, #T_bf141_row13_col7, #T_bf141_row14_col0, #T_bf141_row14_col1, #T_bf141_row14_col2, #T_bf141_row14_col4, #T_bf141_row14_col5, #T_bf141_row14_col6, #T_bf141_row14_col7 {\n",
       "  text-align: left;\n",
       "}\n",
       "#T_bf141_row0_col1, #T_bf141_row0_col2, #T_bf141_row0_col5, #T_bf141_row0_col6, #T_bf141_row0_col7, #T_bf141_row2_col4, #T_bf141_row14_col3 {\n",
       "  text-align: left;\n",
       "  background-color: yellow;\n",
       "}\n",
       "#T_bf141_row0_col8, #T_bf141_row1_col8, #T_bf141_row2_col8, #T_bf141_row3_col8, #T_bf141_row4_col8, #T_bf141_row5_col8, #T_bf141_row6_col8, #T_bf141_row7_col8, #T_bf141_row8_col8, #T_bf141_row9_col8, #T_bf141_row10_col8, #T_bf141_row11_col8, #T_bf141_row12_col8, #T_bf141_row13_col8 {\n",
       "  text-align: left;\n",
       "  background-color: lightgrey;\n",
       "}\n",
       "#T_bf141_row14_col8 {\n",
       "  text-align: left;\n",
       "  background-color: yellow;\n",
       "  background-color: lightgrey;\n",
       "}\n",
       "</style>\n",
       "<table id=\"T_bf141\">\n",
       "  <thead>\n",
       "    <tr>\n",
       "      <th class=\"blank level0\" >&nbsp;</th>\n",
       "      <th id=\"T_bf141_level0_col0\" class=\"col_heading level0 col0\" >Model</th>\n",
       "      <th id=\"T_bf141_level0_col1\" class=\"col_heading level0 col1\" >Accuracy</th>\n",
       "      <th id=\"T_bf141_level0_col2\" class=\"col_heading level0 col2\" >AUC</th>\n",
       "      <th id=\"T_bf141_level0_col3\" class=\"col_heading level0 col3\" >Recall</th>\n",
       "      <th id=\"T_bf141_level0_col4\" class=\"col_heading level0 col4\" >Prec.</th>\n",
       "      <th id=\"T_bf141_level0_col5\" class=\"col_heading level0 col5\" >F1</th>\n",
       "      <th id=\"T_bf141_level0_col6\" class=\"col_heading level0 col6\" >Kappa</th>\n",
       "      <th id=\"T_bf141_level0_col7\" class=\"col_heading level0 col7\" >MCC</th>\n",
       "      <th id=\"T_bf141_level0_col8\" class=\"col_heading level0 col8\" >TT (Sec)</th>\n",
       "    </tr>\n",
       "  </thead>\n",
       "  <tbody>\n",
       "    <tr>\n",
       "      <th id=\"T_bf141_level0_row0\" class=\"row_heading level0 row0\" >lightgbm</th>\n",
       "      <td id=\"T_bf141_row0_col0\" class=\"data row0 col0\" >Light Gradient Boosting Machine</td>\n",
       "      <td id=\"T_bf141_row0_col1\" class=\"data row0 col1\" >0.8051</td>\n",
       "      <td id=\"T_bf141_row0_col2\" class=\"data row0 col2\" >0.8778</td>\n",
       "      <td id=\"T_bf141_row0_col3\" class=\"data row0 col3\" >0.8779</td>\n",
       "      <td id=\"T_bf141_row0_col4\" class=\"data row0 col4\" >0.8134</td>\n",
       "      <td id=\"T_bf141_row0_col5\" class=\"data row0 col5\" >0.8444</td>\n",
       "      <td id=\"T_bf141_row0_col6\" class=\"data row0 col6\" >0.5846</td>\n",
       "      <td id=\"T_bf141_row0_col7\" class=\"data row0 col7\" >0.5877</td>\n",
       "      <td id=\"T_bf141_row0_col8\" class=\"data row0 col8\" >0.1760</td>\n",
       "    </tr>\n",
       "    <tr>\n",
       "      <th id=\"T_bf141_level0_row1\" class=\"row_heading level0 row1\" >rf</th>\n",
       "      <td id=\"T_bf141_row1_col0\" class=\"data row1 col0\" >Random Forest Classifier</td>\n",
       "      <td id=\"T_bf141_row1_col1\" class=\"data row1 col1\" >0.8045</td>\n",
       "      <td id=\"T_bf141_row1_col2\" class=\"data row1 col2\" >0.8746</td>\n",
       "      <td id=\"T_bf141_row1_col3\" class=\"data row1 col3\" >0.8785</td>\n",
       "      <td id=\"T_bf141_row1_col4\" class=\"data row1 col4\" >0.8123</td>\n",
       "      <td id=\"T_bf141_row1_col5\" class=\"data row1 col5\" >0.8441</td>\n",
       "      <td id=\"T_bf141_row1_col6\" class=\"data row1 col6\" >0.5831</td>\n",
       "      <td id=\"T_bf141_row1_col7\" class=\"data row1 col7\" >0.5864</td>\n",
       "      <td id=\"T_bf141_row1_col8\" class=\"data row1 col8\" >1.1030</td>\n",
       "    </tr>\n",
       "    <tr>\n",
       "      <th id=\"T_bf141_level0_row2\" class=\"row_heading level0 row2\" >xgboost</th>\n",
       "      <td id=\"T_bf141_row2_col0\" class=\"data row2 col0\" >Extreme Gradient Boosting</td>\n",
       "      <td id=\"T_bf141_row2_col1\" class=\"data row2 col1\" >0.8034</td>\n",
       "      <td id=\"T_bf141_row2_col2\" class=\"data row2 col2\" >0.8736</td>\n",
       "      <td id=\"T_bf141_row2_col3\" class=\"data row2 col3\" >0.8724</td>\n",
       "      <td id=\"T_bf141_row2_col4\" class=\"data row2 col4\" >0.8146</td>\n",
       "      <td id=\"T_bf141_row2_col5\" class=\"data row2 col5\" >0.8425</td>\n",
       "      <td id=\"T_bf141_row2_col6\" class=\"data row2 col6\" >0.5819</td>\n",
       "      <td id=\"T_bf141_row2_col7\" class=\"data row2 col7\" >0.5845</td>\n",
       "      <td id=\"T_bf141_row2_col8\" class=\"data row2 col8\" >0.1510</td>\n",
       "    </tr>\n",
       "    <tr>\n",
       "      <th id=\"T_bf141_level0_row3\" class=\"row_heading level0 row3\" >et</th>\n",
       "      <td id=\"T_bf141_row3_col0\" class=\"data row3 col0\" >Extra Trees Classifier</td>\n",
       "      <td id=\"T_bf141_row3_col1\" class=\"data row3 col1\" >0.8001</td>\n",
       "      <td id=\"T_bf141_row3_col2\" class=\"data row3 col2\" >0.8702</td>\n",
       "      <td id=\"T_bf141_row3_col3\" class=\"data row3 col3\" >0.8725</td>\n",
       "      <td id=\"T_bf141_row3_col4\" class=\"data row3 col4\" >0.8102</td>\n",
       "      <td id=\"T_bf141_row3_col5\" class=\"data row3 col5\" >0.8402</td>\n",
       "      <td id=\"T_bf141_row3_col6\" class=\"data row3 col6\" >0.5742</td>\n",
       "      <td id=\"T_bf141_row3_col7\" class=\"data row3 col7\" >0.5771</td>\n",
       "      <td id=\"T_bf141_row3_col8\" class=\"data row3 col8\" >0.7340</td>\n",
       "    </tr>\n",
       "    <tr>\n",
       "      <th id=\"T_bf141_level0_row4\" class=\"row_heading level0 row4\" >gbc</th>\n",
       "      <td id=\"T_bf141_row4_col0\" class=\"data row4 col0\" >Gradient Boosting Classifier</td>\n",
       "      <td id=\"T_bf141_row4_col1\" class=\"data row4 col1\" >0.7997</td>\n",
       "      <td id=\"T_bf141_row4_col2\" class=\"data row4 col2\" >0.8711</td>\n",
       "      <td id=\"T_bf141_row4_col3\" class=\"data row4 col3\" >0.8853</td>\n",
       "      <td id=\"T_bf141_row4_col4\" class=\"data row4 col4\" >0.8026</td>\n",
       "      <td id=\"T_bf141_row4_col5\" class=\"data row4 col5\" >0.8419</td>\n",
       "      <td id=\"T_bf141_row4_col6\" class=\"data row4 col6\" >0.5704</td>\n",
       "      <td id=\"T_bf141_row4_col7\" class=\"data row4 col7\" >0.5757</td>\n",
       "      <td id=\"T_bf141_row4_col8\" class=\"data row4 col8\" >0.9310</td>\n",
       "    </tr>\n",
       "    <tr>\n",
       "      <th id=\"T_bf141_level0_row5\" class=\"row_heading level0 row5\" >ada</th>\n",
       "      <td id=\"T_bf141_row5_col0\" class=\"data row5 col0\" >Ada Boost Classifier</td>\n",
       "      <td id=\"T_bf141_row5_col1\" class=\"data row5 col1\" >0.7879</td>\n",
       "      <td id=\"T_bf141_row5_col2\" class=\"data row5 col2\" >0.8577</td>\n",
       "      <td id=\"T_bf141_row5_col3\" class=\"data row5 col3\" >0.8698</td>\n",
       "      <td id=\"T_bf141_row5_col4\" class=\"data row5 col4\" >0.7968</td>\n",
       "      <td id=\"T_bf141_row5_col5\" class=\"data row5 col5\" >0.8317</td>\n",
       "      <td id=\"T_bf141_row5_col6\" class=\"data row5 col6\" >0.5464</td>\n",
       "      <td id=\"T_bf141_row5_col7\" class=\"data row5 col7\" >0.5504</td>\n",
       "      <td id=\"T_bf141_row5_col8\" class=\"data row5 col8\" >0.2720</td>\n",
       "    </tr>\n",
       "    <tr>\n",
       "      <th id=\"T_bf141_level0_row6\" class=\"row_heading level0 row6\" >qda</th>\n",
       "      <td id=\"T_bf141_row6_col0\" class=\"data row6 col0\" >Quadratic Discriminant Analysis</td>\n",
       "      <td id=\"T_bf141_row6_col1\" class=\"data row6 col1\" >0.7362</td>\n",
       "      <td id=\"T_bf141_row6_col2\" class=\"data row6 col2\" >0.7972</td>\n",
       "      <td id=\"T_bf141_row6_col3\" class=\"data row6 col3\" >0.8856</td>\n",
       "      <td id=\"T_bf141_row6_col4\" class=\"data row6 col4\" >0.7325</td>\n",
       "      <td id=\"T_bf141_row6_col5\" class=\"data row6 col5\" >0.8018</td>\n",
       "      <td id=\"T_bf141_row6_col6\" class=\"data row6 col6\" >0.4179</td>\n",
       "      <td id=\"T_bf141_row6_col7\" class=\"data row6 col7\" >0.4351</td>\n",
       "      <td id=\"T_bf141_row6_col8\" class=\"data row6 col8\" >0.0220</td>\n",
       "    </tr>\n",
       "    <tr>\n",
       "      <th id=\"T_bf141_level0_row7\" class=\"row_heading level0 row7\" >lr</th>\n",
       "      <td id=\"T_bf141_row7_col0\" class=\"data row7 col0\" >Logistic Regression</td>\n",
       "      <td id=\"T_bf141_row7_col1\" class=\"data row7 col1\" >0.7323</td>\n",
       "      <td id=\"T_bf141_row7_col2\" class=\"data row7 col2\" >0.7919</td>\n",
       "      <td id=\"T_bf141_row7_col3\" class=\"data row7 col3\" >0.8534</td>\n",
       "      <td id=\"T_bf141_row7_col4\" class=\"data row7 col4\" >0.7414</td>\n",
       "      <td id=\"T_bf141_row7_col5\" class=\"data row7 col5\" >0.7934</td>\n",
       "      <td id=\"T_bf141_row7_col6\" class=\"data row7 col6\" >0.4184</td>\n",
       "      <td id=\"T_bf141_row7_col7\" class=\"data row7 col7\" >0.4270</td>\n",
       "      <td id=\"T_bf141_row7_col8\" class=\"data row7 col8\" >0.6340</td>\n",
       "    </tr>\n",
       "    <tr>\n",
       "      <th id=\"T_bf141_level0_row8\" class=\"row_heading level0 row8\" >knn</th>\n",
       "      <td id=\"T_bf141_row8_col0\" class=\"data row8 col0\" >K Neighbors Classifier</td>\n",
       "      <td id=\"T_bf141_row8_col1\" class=\"data row8 col1\" >0.7323</td>\n",
       "      <td id=\"T_bf141_row8_col2\" class=\"data row8 col2\" >0.7754</td>\n",
       "      <td id=\"T_bf141_row8_col3\" class=\"data row8 col3\" >0.8321</td>\n",
       "      <td id=\"T_bf141_row8_col4\" class=\"data row8 col4\" >0.7506</td>\n",
       "      <td id=\"T_bf141_row8_col5\" class=\"data row8 col5\" >0.7892</td>\n",
       "      <td id=\"T_bf141_row8_col6\" class=\"data row8 col6\" >0.4249</td>\n",
       "      <td id=\"T_bf141_row8_col7\" class=\"data row8 col7\" >0.4293</td>\n",
       "      <td id=\"T_bf141_row8_col8\" class=\"data row8 col8\" >0.1310</td>\n",
       "    </tr>\n",
       "    <tr>\n",
       "      <th id=\"T_bf141_level0_row9\" class=\"row_heading level0 row9\" >lda</th>\n",
       "      <td id=\"T_bf141_row9_col0\" class=\"data row9 col0\" >Linear Discriminant Analysis</td>\n",
       "      <td id=\"T_bf141_row9_col1\" class=\"data row9 col1\" >0.7306</td>\n",
       "      <td id=\"T_bf141_row9_col2\" class=\"data row9 col2\" >0.7915</td>\n",
       "      <td id=\"T_bf141_row9_col3\" class=\"data row9 col3\" >0.8690</td>\n",
       "      <td id=\"T_bf141_row9_col4\" class=\"data row9 col4\" >0.7333</td>\n",
       "      <td id=\"T_bf141_row9_col5\" class=\"data row9 col5\" >0.7954</td>\n",
       "      <td id=\"T_bf141_row9_col6\" class=\"data row9 col6\" >0.4094</td>\n",
       "      <td id=\"T_bf141_row9_col7\" class=\"data row9 col7\" >0.4224</td>\n",
       "      <td id=\"T_bf141_row9_col8\" class=\"data row9 col8\" >0.0220</td>\n",
       "    </tr>\n",
       "    <tr>\n",
       "      <th id=\"T_bf141_level0_row10\" class=\"row_heading level0 row10\" >ridge</th>\n",
       "      <td id=\"T_bf141_row10_col0\" class=\"data row10 col0\" >Ridge Classifier</td>\n",
       "      <td id=\"T_bf141_row10_col1\" class=\"data row10 col1\" >0.7304</td>\n",
       "      <td id=\"T_bf141_row10_col2\" class=\"data row10 col2\" >0.0000</td>\n",
       "      <td id=\"T_bf141_row10_col3\" class=\"data row10 col3\" >0.8709</td>\n",
       "      <td id=\"T_bf141_row10_col4\" class=\"data row10 col4\" >0.7323</td>\n",
       "      <td id=\"T_bf141_row10_col5\" class=\"data row10 col5\" >0.7956</td>\n",
       "      <td id=\"T_bf141_row10_col6\" class=\"data row10 col6\" >0.4082</td>\n",
       "      <td id=\"T_bf141_row10_col7\" class=\"data row10 col7\" >0.4217</td>\n",
       "      <td id=\"T_bf141_row10_col8\" class=\"data row10 col8\" >0.0180</td>\n",
       "    </tr>\n",
       "    <tr>\n",
       "      <th id=\"T_bf141_level0_row11\" class=\"row_heading level0 row11\" >dt</th>\n",
       "      <td id=\"T_bf141_row11_col0\" class=\"data row11 col0\" >Decision Tree Classifier</td>\n",
       "      <td id=\"T_bf141_row11_col1\" class=\"data row11 col1\" >0.7294</td>\n",
       "      <td id=\"T_bf141_row11_col2\" class=\"data row11 col2\" >0.7189</td>\n",
       "      <td id=\"T_bf141_row11_col3\" class=\"data row11 col3\" >0.7698</td>\n",
       "      <td id=\"T_bf141_row11_col4\" class=\"data row11 col4\" >0.7785</td>\n",
       "      <td id=\"T_bf141_row11_col5\" class=\"data row11 col5\" >0.7741</td>\n",
       "      <td id=\"T_bf141_row11_col6\" class=\"data row11 col6\" >0.4366</td>\n",
       "      <td id=\"T_bf141_row11_col7\" class=\"data row11 col7\" >0.4367</td>\n",
       "      <td id=\"T_bf141_row11_col8\" class=\"data row11 col8\" >0.0640</td>\n",
       "    </tr>\n",
       "    <tr>\n",
       "      <th id=\"T_bf141_level0_row12\" class=\"row_heading level0 row12\" >nb</th>\n",
       "      <td id=\"T_bf141_row12_col0\" class=\"data row12 col0\" >Naive Bayes</td>\n",
       "      <td id=\"T_bf141_row12_col1\" class=\"data row12 col1\" >0.6908</td>\n",
       "      <td id=\"T_bf141_row12_col2\" class=\"data row12 col2\" >0.7583</td>\n",
       "      <td id=\"T_bf141_row12_col3\" class=\"data row12 col3\" >0.8471</td>\n",
       "      <td id=\"T_bf141_row12_col4\" class=\"data row12 col4\" >0.7017</td>\n",
       "      <td id=\"T_bf141_row12_col5\" class=\"data row12 col5\" >0.7675</td>\n",
       "      <td id=\"T_bf141_row12_col6\" class=\"data row12 col6\" >0.3181</td>\n",
       "      <td id=\"T_bf141_row12_col7\" class=\"data row12 col7\" >0.3310</td>\n",
       "      <td id=\"T_bf141_row12_col8\" class=\"data row12 col8\" >0.0200</td>\n",
       "    </tr>\n",
       "    <tr>\n",
       "      <th id=\"T_bf141_level0_row13\" class=\"row_heading level0 row13\" >svm</th>\n",
       "      <td id=\"T_bf141_row13_col0\" class=\"data row13 col0\" >SVM - Linear Kernel</td>\n",
       "      <td id=\"T_bf141_row13_col1\" class=\"data row13 col1\" >0.6764</td>\n",
       "      <td id=\"T_bf141_row13_col2\" class=\"data row13 col2\" >0.0000</td>\n",
       "      <td id=\"T_bf141_row13_col3\" class=\"data row13 col3\" >0.8049</td>\n",
       "      <td id=\"T_bf141_row13_col4\" class=\"data row13 col4\" >0.7272</td>\n",
       "      <td id=\"T_bf141_row13_col5\" class=\"data row13 col5\" >0.7176</td>\n",
       "      <td id=\"T_bf141_row13_col6\" class=\"data row13 col6\" >0.3027</td>\n",
       "      <td id=\"T_bf141_row13_col7\" class=\"data row13 col7\" >0.3622</td>\n",
       "      <td id=\"T_bf141_row13_col8\" class=\"data row13 col8\" >0.1690</td>\n",
       "    </tr>\n",
       "    <tr>\n",
       "      <th id=\"T_bf141_level0_row14\" class=\"row_heading level0 row14\" >dummy</th>\n",
       "      <td id=\"T_bf141_row14_col0\" class=\"data row14 col0\" >Dummy Classifier</td>\n",
       "      <td id=\"T_bf141_row14_col1\" class=\"data row14 col1\" >0.6025</td>\n",
       "      <td id=\"T_bf141_row14_col2\" class=\"data row14 col2\" >0.5000</td>\n",
       "      <td id=\"T_bf141_row14_col3\" class=\"data row14 col3\" >1.0000</td>\n",
       "      <td id=\"T_bf141_row14_col4\" class=\"data row14 col4\" >0.6025</td>\n",
       "      <td id=\"T_bf141_row14_col5\" class=\"data row14 col5\" >0.7520</td>\n",
       "      <td id=\"T_bf141_row14_col6\" class=\"data row14 col6\" >0.0000</td>\n",
       "      <td id=\"T_bf141_row14_col7\" class=\"data row14 col7\" >0.0000</td>\n",
       "      <td id=\"T_bf141_row14_col8\" class=\"data row14 col8\" >0.0170</td>\n",
       "    </tr>\n",
       "  </tbody>\n",
       "</table>\n"
      ],
      "text/plain": [
       "<pandas.io.formats.style.Styler at 0x148a2ddf130>"
      ]
     },
     "metadata": {},
     "output_type": "display_data"
    },
    {
     "data": {
      "text/html": [],
      "text/plain": [
       "<IPython.core.display.HTML object>"
      ]
     },
     "metadata": {},
     "output_type": "display_data"
    }
   ],
   "source": [
    "from pycaret.classification import setup, compare_models\n",
    "\n",
    "# Configurar el entorno de PyCaret para clasificación\n",
    "classification_setup = setup(data=mus, target='danceability_cod')\n",
    "\n",
    "# Comparar los modelos de clasificación disponibles\n",
    "best_model = compare_models()"
   ]
  },
  {
   "cell_type": "markdown",
   "metadata": {},
   "source": [
    "# MODELO Light Gradient Boosting Machine"
   ]
  },
  {
   "cell_type": "code",
   "execution_count": 9,
   "metadata": {},
   "outputs": [],
   "source": [
    "from sklearn.model_selection import train_test_split\n",
    "\n",
    "X, y = mus.drop(['danceability_cod'], axis=1).values, mus['danceability_cod'].values\n",
    "X_train, X_test, y_train, y_test = train_test_split(X, y, test_size=0.2, random_state=42)"
   ]
  },
  {
   "cell_type": "code",
   "execution_count": 10,
   "metadata": {},
   "outputs": [
    {
     "name": "stdout",
     "output_type": "stream",
     "text": [
      "Collecting lightgbm\n",
      "  Using cached lightgbm-4.3.0-py3-none-win_amd64.whl.metadata (19 kB)\n",
      "Requirement already satisfied: numpy in c:\\users\\jesús\\appdata\\local\\programs\\python\\python310\\lib\\site-packages (from lightgbm) (1.26.4)\n",
      "Requirement already satisfied: scipy in c:\\users\\jesús\\appdata\\local\\programs\\python\\python310\\lib\\site-packages (from lightgbm) (1.11.4)\n",
      "Using cached lightgbm-4.3.0-py3-none-win_amd64.whl (1.3 MB)\n",
      "Installing collected packages: lightgbm\n",
      "Successfully installed lightgbm-4.3.0\n",
      "Note: you may need to restart the kernel to use updated packages.\n"
     ]
    },
    {
     "name": "stderr",
     "output_type": "stream",
     "text": [
      "WARNING: Ignoring invalid distribution -atplotlib (c:\\users\\jesús\\appdata\\local\\programs\\python\\python310\\lib\\site-packages)\n",
      "WARNING: Ignoring invalid distribution -treamlit (c:\\users\\jesús\\appdata\\local\\programs\\python\\python310\\lib\\site-packages)\n",
      "WARNING: Ignoring invalid distribution -atplotlib (c:\\users\\jesús\\appdata\\local\\programs\\python\\python310\\lib\\site-packages)\n",
      "WARNING: Ignoring invalid distribution -treamlit (c:\\users\\jesús\\appdata\\local\\programs\\python\\python310\\lib\\site-packages)\n"
     ]
    }
   ],
   "source": [
    "pip install lightgbm"
   ]
  },
  {
   "cell_type": "code",
   "execution_count": 10,
   "metadata": {},
   "outputs": [],
   "source": [
    "import lightgbm as lgb\n",
    "from sklearn.metrics import accuracy_score"
   ]
  },
  {
   "cell_type": "code",
   "execution_count": 11,
   "metadata": {},
   "outputs": [
    {
     "name": "stdout",
     "output_type": "stream",
     "text": [
      "[LightGBM] [Info] Number of positive: 19437, number of negative: 12825\n",
      "[LightGBM] [Info] Auto-choosing col-wise multi-threading, the overhead of testing was 0.001489 seconds.\n",
      "You can set `force_col_wise=true` to remove the overhead.\n",
      "[LightGBM] [Info] Total Bins 890\n",
      "[LightGBM] [Info] Number of data points in the train set: 32262, number of used features: 9\n",
      "[LightGBM] [Info] [binary:BoostFromScore]: pavg=0.602473 -> initscore=0.415782\n",
      "[LightGBM] [Info] Start training from score 0.415782\n",
      "Precisión del modelo LightGBM: 0.7979171832382842\n"
     ]
    }
   ],
   "source": [
    "lgb_model = lgb.LGBMClassifier()\n",
    "lgb_model.fit(X_train, y_train)\n",
    "\n",
    "# Predecir en el conjunto de prueba\n",
    "y_pred = lgb_model.predict(X_test)\n",
    "\n",
    "# Calcular la precisión del modelo\n",
    "accuracy = accuracy_score(y_test, y_pred)\n",
    "print(\"Precisión del modelo LightGBM:\", accuracy)"
   ]
  },
  {
   "cell_type": "code",
   "execution_count": 12,
   "metadata": {},
   "outputs": [],
   "source": [
    "# from sklearn.metrics import classification_report\n",
    "# from sklearn.ensemble import RandomForestClassifier"
   ]
  },
  {
   "cell_type": "code",
   "execution_count": 13,
   "metadata": {},
   "outputs": [],
   "source": [
    "# RFC = RandomForestClassifier()\n",
    "# RFC.fit(X_train, y_train)\n",
    "# y_preds = RFC.predict(X_test)\n",
    "# print(classification_report(y_test, y_preds))"
   ]
  },
  {
   "cell_type": "code",
   "execution_count": 14,
   "metadata": {},
   "outputs": [
    {
     "name": "stdout",
     "output_type": "stream",
     "text": [
      "Requirement already satisfied: joblib in c:\\users\\jesús\\appdata\\local\\programs\\python\\python310\\lib\\site-packages (1.4.0)\n",
      "Note: you may need to restart the kernel to use updated packages.\n"
     ]
    },
    {
     "name": "stderr",
     "output_type": "stream",
     "text": [
      "WARNING: Ignoring invalid distribution -atplotlib (c:\\users\\jesús\\appdata\\local\\programs\\python\\python310\\lib\\site-packages)\n",
      "WARNING: Ignoring invalid distribution -treamlit (c:\\users\\jesús\\appdata\\local\\programs\\python\\python310\\lib\\site-packages)\n",
      "WARNING: Ignoring invalid distribution -atplotlib (c:\\users\\jesús\\appdata\\local\\programs\\python\\python310\\lib\\site-packages)\n",
      "WARNING: Ignoring invalid distribution -treamlit (c:\\users\\jesús\\appdata\\local\\programs\\python\\python310\\lib\\site-packages)\n"
     ]
    }
   ],
   "source": [
    "pip install joblib"
   ]
  },
  {
   "cell_type": "code",
   "execution_count": 15,
   "metadata": {},
   "outputs": [],
   "source": [
    "import joblib\n",
    "from joblib import dump"
   ]
  },
  {
   "cell_type": "code",
   "execution_count": 16,
   "metadata": {},
   "outputs": [
    {
     "data": {
      "text/plain": [
       "['modelo_lgb.pkl']"
      ]
     },
     "execution_count": 16,
     "metadata": {},
     "output_type": "execute_result"
    }
   ],
   "source": [
    "lgb_model_file = 'modelo_lgb.pkl'\n",
    "joblib.dump(lgb_model, lgb_model_file)"
   ]
  },
  {
   "cell_type": "code",
   "execution_count": 12,
   "metadata": {},
   "outputs": [
    {
     "data": {
      "text/plain": [
       "['modeloforest.pkl']"
      ]
     },
     "execution_count": 12,
     "metadata": {},
     "output_type": "execute_result"
    }
   ],
   "source": [
    "# dump(RFC, 'modeloforest.pkl')"
   ]
  },
  {
   "cell_type": "code",
   "execution_count": null,
   "metadata": {},
   "outputs": [],
   "source": []
  }
 ],
 "metadata": {
  "kernelspec": {
   "display_name": "Python 3",
   "language": "python",
   "name": "python3"
  },
  "language_info": {
   "codemirror_mode": {
    "name": "ipython",
    "version": 3
   },
   "file_extension": ".py",
   "mimetype": "text/x-python",
   "name": "python",
   "nbconvert_exporter": "python",
   "pygments_lexer": "ipython3",
   "version": "3.10.10"
  }
 },
 "nbformat": 4,
 "nbformat_minor": 2
}
